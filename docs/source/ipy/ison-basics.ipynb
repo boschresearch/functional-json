{
 "cells": [
  {
   "cell_type": "markdown",
   "metadata": {},
   "source": [
    "# Getting Started\n",
    "\n",
    "The ISON language is a functional programming language that lives within the JSON or JSON5 syntax specification. That is, every ISON script file can be read as a standard JSON file. The ISON syntax only appears in strings within the JSON file. \n",
    "\n",
    "In the following, the basic language features of ISON are presented. You can copy paste the code and run it in an Jupyter Notebook or directly in a Python file.\n",
    "\n",
    ":::{note}\n",
    "If you have installed the module `functional-json`, you can run the ISON parser also from the command line with `ison`. For command line help, run `ison -h`.\n",
    ":::\n",
    "\n",
    ":::{important}\n",
    "All dictionary keys in a JSON file that start with double underscore `__` are treated as special language features. \n",
    "If they are not ISON language elements, they are either removed or are reported as error.\n",
    ":::"
   ]
  },
  {
   "cell_type": "markdown",
   "metadata": {},
   "source": [
    "## Values\n",
    "\n",
    "As a first example, we will simply replace a value with another one. "
   ]
  },
  {
   "cell_type": "code",
   "execution_count": 1,
   "metadata": {},
   "outputs": [
    {
     "name": "stdout",
     "output_type": "stream",
     "text": [
      "{\n",
      "    \"value\": \"world\"\n",
      "}\n"
     ]
    }
   ],
   "source": [
    "import ison\n",
    "\n",
    "# First we define a dictionary of macro values that can be replaced.\n",
    "# When using the CML for Catharsys configuration files, this part is\n",
    "# done by Catharsys.\n",
    "dicVars = {\"hello\": \"world\"}\n",
    "\n",
    "# Now we define the dictionary that is processed.\n",
    "# This is your configuration json structure.\n",
    "dicData = {\"value\": \"$hello\"}\n",
    "\n",
    "dicResult = ison.run.Run(xData=dicData, dicConstVars=dicVars)\n",
    "\n",
    "print(ison.run.ToString(dicResult))"
   ]
  },
  {
   "cell_type": "markdown",
   "metadata": {},
   "source": [
    "Variables can be accessed in two ways:\n",
    "\n",
    "- Using the full syntax: `${variable}`\n",
    "- Using the variable syntax: `$variable`\n",
    "\n",
    "The full syntax will later be used to apply functions, as in `$sum{1, 2}`.\n",
    "\n",
    "If a variable is not found, this is not an error, but the element is just left as it is. This is done to enable parsing in mutliple stages, as more data becomes available.\n"
   ]
  },
  {
   "cell_type": "code",
   "execution_count": 2,
   "metadata": {},
   "outputs": [
    {
     "name": "stdout",
     "output_type": "stream",
     "text": [
      "{\n",
      "    \"value\": \"$hello\"\n",
      "}\n"
     ]
    }
   ],
   "source": [
    "dicData = {\"value\": \"$hello\"}\n",
    "\n",
    "dicResult = ison.run.Run(xData=dicData)\n",
    "print(ison.run.ToString(dicResult))"
   ]
  },
  {
   "cell_type": "markdown",
   "metadata": {},
   "source": [
    "## Variables\n",
    "\n",
    "You can define variables within a dictionary, which can be accessed by other parts of the dictionary. These variables can either be declared as local or global variables."
   ]
  },
  {
   "cell_type": "code",
   "execution_count": 3,
   "metadata": {},
   "outputs": [
    {
     "name": "stdout",
     "output_type": "stream",
     "text": [
      "{\n",
      "    \"mValues\": {\n",
      "        \"value\": \"today\"\n",
      "    },\n",
      "    \"value\": \"world\"\n",
      "}\n"
     ]
    }
   ],
   "source": [
    "dicData = {\n",
    "    \"__globals__\": {\n",
    "        \"hello\": \"world\",\n",
    "    },\n",
    "    \"mValues\": {\n",
    "        \"__locals__\": {\n",
    "            \"hello\": \"today\",\n",
    "        },\n",
    "        \"value\": \"$hello\",\n",
    "    },\n",
    "    \"value\": \"$hello\",\n",
    "}\n",
    "\n",
    "# Set 'bStripVars' to False, to see the variables dictionaries in the output.\n",
    "dicResult = ison.run.Run(xData=dicData, bStripVars=True)\n",
    "print(ison.run.ToString(dicResult))"
   ]
  },
  {
   "cell_type": "markdown",
   "metadata": {},
   "source": [
    "Local and global variables are evaluated first, before the remainder of the dictionary is processed. If you want to define variables that are executed every time they are referenced, you need to place the variables in `__func_globals__` or `__func_locals__`. For example,"
   ]
  },
  {
   "cell_type": "code",
   "execution_count": 4,
   "metadata": {},
   "outputs": [
    {
     "name": "stdout",
     "output_type": "stream",
     "text": [
      "{\n",
      "    \"__func_globals__\": {\n",
      "        \"fRand\": \"$rand.uniform{0, 1}\"\n",
      "    },\n",
      "    \"__globals__\": {\n",
      "        \"fA\": 0.9907603148150335,\n",
      "        \"fA2\": 0.9907603148150335,\n",
      "        \"fB\": 0.7556173456393716\n",
      "    },\n",
      "    \"fA2\": 0.9907603148150335,\n",
      "    \"fA\": 0.9907603148150335,\n",
      "    \"fB\": 0.7556173456393716,\n",
      "    \"fC\": 0.038020755108450044\n",
      "}\n"
     ]
    }
   ],
   "source": [
    "dicData = {\n",
    "    \"__func_globals__\": {\n",
    "        # This variables will calculate a uniformly distributed random variable\n",
    "        \"fRand\": \"$rand.uniform{0, 1}\",\n",
    "    },\n",
    "    \"__globals__\": {\n",
    "        \"fA\": \"$fRand\",\n",
    "        \"fA2\": \"$fA\",\n",
    "        \"fB\": \"$fRand\",\n",
    "    },\n",
    "    \"fA2\": \"$fA2\",\n",
    "    \"fA\": \"$fA\",\n",
    "    \"fB\": \"$fB\",\n",
    "    \"fC\": \"$fRand\",\n",
    "}\n",
    "\n",
    "dicResult = ison.run.Run(xData=dicData, bStripVars=False)\n",
    "print(ison.run.ToString(dicResult))"
   ]
  },
  {
   "cell_type": "markdown",
   "metadata": {},
   "source": [
    "Here, the variables `fA` and  `fB` are evaluated first, before the elements outside the variable dictionaries. `fC` executes the function referenced by `fRand` again, since `fRand` is not pre-evaluated."
   ]
  },
  {
   "cell_type": "markdown",
   "metadata": {},
   "source": [
    "## Lists and Dictionaries\n",
    "\n",
    "Lists and dictionaries are defined in the standard JSON way, with `[]` and `{}`, respectively. Elements of lists and dictionaries are both accessed using the colon operator `:`. Here is an exampe,"
   ]
  },
  {
   "cell_type": "code",
   "execution_count": 6,
   "metadata": {},
   "outputs": [
    {
     "name": "stdout",
     "output_type": "stream",
     "text": [
      "{\n",
      "    \"__globals__\": {\n",
      "        \"lA\": [\n",
      "            1,\n",
      "            2,\n",
      "            3\n",
      "        ],\n",
      "        \"mB\": {\n",
      "            \"a\": 1,\n",
      "            \"b\": 2\n",
      "        }\n",
      "    },\n",
      "    \"fA\": 2,\n",
      "    \"fB\": 2,\n",
      "    \"__func_globals__\": {}\n",
      "}\n"
     ]
    }
   ],
   "source": [
    "import ison\n",
    "\n",
    "dicData = {\n",
    "    \"__globals__\": {\n",
    "        # Define a list of values\n",
    "        \"lA\": [1, 2, 3],\n",
    "        # Define a dictionary of values\n",
    "        \"mB\": {\n",
    "            \"a\": 1,\n",
    "            \"b\": 2,\n",
    "        },\n",
    "    },\n",
    "    \n",
    "    # Pick the second value from the list\n",
    "    \"fA\": \"${lA:1}\",\n",
    "    # Pick element 'b' from the dictionary\n",
    "    \"fB\": \"${mB:b}\",\n",
    "}\n",
    "\n",
    "dicResult = ison.run.Run(xData=dicData, bStripVars=False)\n",
    "print(ison.run.ToString(dicResult))"
   ]
  },
  {
   "cell_type": "markdown",
   "metadata": {},
   "source": [
    "You can also use the colon operator for nested objects, as shown in the next example."
   ]
  },
  {
   "cell_type": "code",
   "execution_count": 3,
   "metadata": {},
   "outputs": [
    {
     "name": "stdout",
     "output_type": "stream",
     "text": [
      "{\n",
      "    \"__globals__\": {\n",
      "        \"mB\": {\n",
      "            \"lU\": [\n",
      "                1,\n",
      "                2,\n",
      "                3\n",
      "            ],\n",
      "            \"mX\": {\n",
      "                \"lA\": [\n",
      "                    1,\n",
      "                    2,\n",
      "                    3\n",
      "                ],\n",
      "                \"lB\": [\n",
      "                    4,\n",
      "                    5,\n",
      "                    6\n",
      "                ]\n",
      "            }\n",
      "        }\n",
      "    },\n",
      "    \"fA\": 2,\n",
      "    \"__func_globals__\": {}\n",
      "}\n"
     ]
    }
   ],
   "source": [
    "import ison\n",
    "\n",
    "dicData = {\n",
    "    \"__globals__\": {\n",
    "        # Define a dictionary of structured values\n",
    "        \"mB\": {\n",
    "            \"lU\": [1, 2, 3],\n",
    "            \"mX\": {\n",
    "                \"lA\": [1, 2, 3],\n",
    "                \"lB\": [4, 5, 6],\n",
    "            },\n",
    "        },\n",
    "    },\n",
    "    \n",
    "    # Pick a nested value\n",
    "    \"fA\": \"${mB:mX:lA:1}\",\n",
    "}\n",
    "\n",
    "dicResult = ison.run.Run(xData=dicData, bStripVars=False)\n",
    "print(ison.run.ToString(dicResult))"
   ]
  },
  {
   "cell_type": "markdown",
   "metadata": {},
   "source": [
    "## Strings\n",
    "\n",
    "All ISON commands are contained in a string within a JSON file. Therefore, all arguments you pass to an ISON function are strings, which may be transformed to a numerical value, if the function expects a number. However, sometimes the formatting of a string conflicts with the syntax of an ISON function. For example, if you want to print a text with the `$print{}` function that contains a comma, then ISON would interpret this as two parameters passed to the function. In this case, you need to enclose the string you want to print either in single quotes `'` or single backward quotes. \n",
    "\n",
    "The single quotes ensure that everything between them is regarded as a single string. However, the quotes themselves are also part of that string. With backquotes, however, the quotes are stripped from the string before it is passed into the function.\n",
    "\n",
    "Here is an example."
   ]
  }
 ],
 "metadata": {
  "kernelspec": {
   "display_name": "Python 3.10.6 ('cath3')",
   "language": "python",
   "name": "python3"
  },
  "language_info": {
   "codemirror_mode": {
    "name": "ipython",
    "version": 3
   },
   "file_extension": ".py",
   "mimetype": "text/x-python",
   "name": "python",
   "nbconvert_exporter": "python",
   "pygments_lexer": "ipython3",
   "version": "3.10.10"
  },
  "orig_nbformat": 4,
  "vscode": {
   "interpreter": {
    "hash": "d144e52b91e679811e4cceb0036205285e180e4be0ba7d3643a3ec09e4fe9f87"
   }
  }
 },
 "nbformat": 4,
 "nbformat_minor": 2
}
